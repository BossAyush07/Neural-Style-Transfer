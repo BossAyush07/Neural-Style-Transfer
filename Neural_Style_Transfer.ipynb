{
  "nbformat": 4,
  "nbformat_minor": 0,
  "metadata": {
    "colab": {
      "name": "Neural_Style_Transfer.ipynb",
      "provenance": [],
      "authorship_tag": "ABX9TyN5uVJsmyfcSipaOwP9L0vd",
      "include_colab_link": true
    },
    "kernelspec": {
      "name": "python3",
      "display_name": "Python 3"
    },
    "language_info": {
      "name": "python"
    },
    "accelerator": "GPU"
  },
  "cells": [
    {
      "cell_type": "markdown",
      "metadata": {
        "id": "view-in-github",
        "colab_type": "text"
      },
      "source": [
        "<a href=\"https://colab.research.google.com/github/BossAyush07/Neural-Style-Transfer/blob/main/Neural_Style_Transfer.ipynb\" target=\"_parent\"><img src=\"https://colab.research.google.com/assets/colab-badge.svg\" alt=\"Open In Colab\"/></a>"
      ]
    },
    {
      "cell_type": "code",
      "metadata": {
        "colab": {
          "base_uri": "https://localhost:8080/"
        },
        "id": "d67NR9VzV5-i",
        "outputId": "afe91387-8073-4826-f40e-795d81a10e3e"
      },
      "source": [
        "from google.colab import drive\n",
        "drive.mount('/content/gdrive/')"
      ],
      "execution_count": 1,
      "outputs": [
        {
          "output_type": "stream",
          "text": [
            "Mounted at /content/gdrive/\n"
          ],
          "name": "stdout"
        }
      ]
    },
    {
      "cell_type": "code",
      "metadata": {
        "id": "A0We3ZI2WYgg"
      },
      "source": [
        "import sys\n",
        "sys.path.append('/content/gdrive/MyDrive/NST')"
      ],
      "execution_count": 2,
      "outputs": []
    },
    {
      "cell_type": "code",
      "metadata": {
        "id": "orzdY2DFWr9W"
      },
      "source": [
        "import torch\n",
        "import torch.nn as nn\n",
        "import torch.optim as optim\n",
        "from PIL import Image\n",
        "import torchvision.transforms as transforms\n",
        "import torchvision.models as models\n",
        "from torchvision.utils import save_image"
      ],
      "execution_count": 3,
      "outputs": []
    },
    {
      "cell_type": "code",
      "metadata": {
        "id": "w4ukOpS2XUBt"
      },
      "source": [
        "class VGG(nn.Module):\n",
        "    def __init__(self):\n",
        "        super(VGG, self).__init__()\n",
        "\n",
        "        # The first number x in convx_y gets added by 1 after it has gone\n",
        "        # through a maxpool, and the second y if we have several conv layers\n",
        "        # in between a max pool. These strings (0, 5, 10, ..) then correspond\n",
        "        # to conv1_1, conv2_1, conv3_1, conv4_1, conv5_1 mentioned in NST paper\n",
        "\n",
        "        self.chosen_features = [\"0\", \"5\", \"10\", \"19\", \"28\"]\n",
        "\n",
        "        # We don't need to run anything further than conv5_1 (the 28th module in vgg)\n",
        "        # Since remember, we dont actually care about the output of VGG: the only thing\n",
        "        # that is modified is the generated image (i.e, the input).\n",
        "\n",
        "        self.model = models.vgg19(pretrained=True).features[:29]\n",
        "\n",
        "    def forward(self, x):\n",
        "        # Store relevant features\n",
        "        features = []\n",
        "\n",
        "        # Go through each layer in model, if the layer is in the chosen_features,\n",
        "        # store it in features. At the end we'll just return all the activations\n",
        "        # for the specific layers we have in chosen_features\n",
        "        \n",
        "        for layer_num, layer in enumerate(self.model):\n",
        "            x = layer(x)\n",
        "\n",
        "            if str(layer_num) in self.chosen_features:\n",
        "                features.append(x)\n",
        "\n",
        "        return features"
      ],
      "execution_count": 12,
      "outputs": []
    },
    {
      "cell_type": "code",
      "metadata": {
        "id": "Jvj-TMcXlFJ1"
      },
      "source": [
        "def load_image(image_name):\n",
        "    image = Image.open(image_name)\n",
        "    image = loader(image).unsqueeze(0)\n",
        "    return image.to(device)"
      ],
      "execution_count": 15,
      "outputs": []
    },
    {
      "cell_type": "code",
      "metadata": {
        "id": "_Tdd9BlWlxPQ"
      },
      "source": [
        "device = torch.device(\"cuda\" if torch.cuda.is_available() else \"cpu\")\n",
        "imsize = 356"
      ],
      "execution_count": 16,
      "outputs": []
    },
    {
      "cell_type": "code",
      "metadata": {
        "id": "eRl3iZT5mPx2"
      },
      "source": [
        "# Here we may want to use the Normalization constants used in the original\n",
        "# VGG network (to get similar values net was originally trained on), but\n",
        "# I found it didn't matter too much so I didn't end of using it. If you\n",
        "# use it make sure to normalize back so the images don't look weird.\n",
        "\n",
        "loader = transforms.Compose(\n",
        "    [\n",
        "     transforms.Resize((imsize, imsize)),\n",
        "     transforms.ToTensor(),\n",
        "     # transforms.Normalize(mean=[0.485, 0.456, 0.406], std=[0.229, 0.224, 0.225]),\n",
        "    ]\n",
        ")"
      ],
      "execution_count": 17,
      "outputs": []
    },
    {
      "cell_type": "code",
      "metadata": {
        "id": "BmPYIZLVnGVT"
      },
      "source": [
        "original_img = load_image(\"/content/gdrive/MyDrive/NST/content1.jpeg\")\n",
        "\n",
        "style_img = load_image(\"/content/gdrive/MyDrive/NST/style2.jpg\")"
      ],
      "execution_count": 24,
      "outputs": []
    },
    {
      "cell_type": "code",
      "metadata": {
        "id": "z2VpRuBHnxzh"
      },
      "source": [
        "# initialized generated as white noise or clone of original image.\n",
        "# Clone seemed to work better for me.\n",
        "\n",
        "# generated = torch.randn(original_img.data.shape, device=device, requires_grad=True)\n",
        "generated = original_img.clone().requires_grad_(True)\n",
        "model = VGG().to(device).eval()\n"
      ],
      "execution_count": 25,
      "outputs": []
    },
    {
      "cell_type": "code",
      "metadata": {
        "id": "q8S9eLhDn43o"
      },
      "source": [
        "# Hyperparamters\n",
        "total_steps = 6000\n",
        "learning_rate = 0.001\n",
        "alpha = 1\n",
        "beta = 0.01\n",
        "optimizer = optim.Adam([generated], lr=learning_rate)"
      ],
      "execution_count": 26,
      "outputs": []
    },
    {
      "cell_type": "code",
      "metadata": {
        "colab": {
          "base_uri": "https://localhost:8080/"
        },
        "id": "jhRKBzOZpbdp",
        "outputId": "72b74014-7405-4563-b249-5c512c5bca2a"
      },
      "source": [
        "for step in range(total_steps):\n",
        "\n",
        "  # Obtain the convolution features in specifically chosen layers\n",
        "  generated_features = model(generated)\n",
        "  original_img_features = model(original_img)\n",
        "  style_features = model(style_img)\n",
        "\n",
        "  # Loss is 0 initially\n",
        "  style_loss = original_loss = 0\n",
        "\n",
        "  # iterate through all the features for the chosen layers\n",
        "  for gen_feature, orig_feature, style_feature in zip(generated_features, original_img_features, style_features):\n",
        "    \n",
        "    # batch_size will just be 1\n",
        "\n",
        "    batch_size, channel, height, width = gen_feature.shape\n",
        "    original_loss += torch.mean((gen_feature - orig_feature) ** 2)\n",
        "\n",
        "    # Compute Gram Matrix of generated\n",
        "\n",
        "    G = gen_feature.view(channel, height * width).mm(\n",
        "           gen_feature.view(channel, height * width).t()\n",
        "    )\n",
        "        \n",
        "    # Compute Gram Matrix of Style\n",
        "\n",
        "    A = style_feature.view(channel, height * width).mm(\n",
        "            style_feature.view(channel, height * width).t()\n",
        "    )\n",
        "    style_loss += torch.mean((G - A) ** 2)\n",
        "  \n",
        "  total_loss = alpha * original_loss + beta * style_loss\n",
        "  optimizer.zero_grad()\n",
        "  total_loss.backward()\n",
        "  optimizer.step()\n",
        "\n",
        "  if step % 200 == 0:\n",
        "    print(total_loss)\n",
        "    save_image(generated, \"generated.png\")"
      ],
      "execution_count": 27,
      "outputs": [
        {
          "output_type": "stream",
          "text": [
            "tensor(1525290.2500, device='cuda:0', grad_fn=<AddBackward0>)\n",
            "tensor(353541.8125, device='cuda:0', grad_fn=<AddBackward0>)\n",
            "tensor(76934.5156, device='cuda:0', grad_fn=<AddBackward0>)\n",
            "tensor(23582.8555, device='cuda:0', grad_fn=<AddBackward0>)\n",
            "tensor(11668.9502, device='cuda:0', grad_fn=<AddBackward0>)\n",
            "tensor(7864.7729, device='cuda:0', grad_fn=<AddBackward0>)\n",
            "tensor(6172.0078, device='cuda:0', grad_fn=<AddBackward0>)\n",
            "tensor(5045.8979, device='cuda:0', grad_fn=<AddBackward0>)\n",
            "tensor(4108.6304, device='cuda:0', grad_fn=<AddBackward0>)\n",
            "tensor(3296.3416, device='cuda:0', grad_fn=<AddBackward0>)\n",
            "tensor(2670.9749, device='cuda:0', grad_fn=<AddBackward0>)\n",
            "tensor(2244.5713, device='cuda:0', grad_fn=<AddBackward0>)\n",
            "tensor(1961.4380, device='cuda:0', grad_fn=<AddBackward0>)\n",
            "tensor(1762.4525, device='cuda:0', grad_fn=<AddBackward0>)\n",
            "tensor(1612.6177, device='cuda:0', grad_fn=<AddBackward0>)\n",
            "tensor(1490.9739, device='cuda:0', grad_fn=<AddBackward0>)\n",
            "tensor(1389.5068, device='cuda:0', grad_fn=<AddBackward0>)\n",
            "tensor(1302.8857, device='cuda:0', grad_fn=<AddBackward0>)\n",
            "tensor(1227.3846, device='cuda:0', grad_fn=<AddBackward0>)\n",
            "tensor(1160.7103, device='cuda:0', grad_fn=<AddBackward0>)\n",
            "tensor(1100.1674, device='cuda:0', grad_fn=<AddBackward0>)\n",
            "tensor(1045.0776, device='cuda:0', grad_fn=<AddBackward0>)\n",
            "tensor(993.9457, device='cuda:0', grad_fn=<AddBackward0>)\n",
            "tensor(945.6439, device='cuda:0', grad_fn=<AddBackward0>)\n",
            "tensor(899.3721, device='cuda:0', grad_fn=<AddBackward0>)\n",
            "tensor(855.0969, device='cuda:0', grad_fn=<AddBackward0>)\n",
            "tensor(813.1492, device='cuda:0', grad_fn=<AddBackward0>)\n",
            "tensor(773.0303, device='cuda:0', grad_fn=<AddBackward0>)\n",
            "tensor(734.8182, device='cuda:0', grad_fn=<AddBackward0>)\n",
            "tensor(698.7854, device='cuda:0', grad_fn=<AddBackward0>)\n"
          ],
          "name": "stdout"
        }
      ]
    },
    {
      "cell_type": "code",
      "metadata": {
        "id": "1r3FT0qgrOvI"
      },
      "source": [
        ""
      ],
      "execution_count": null,
      "outputs": []
    }
  ]
}